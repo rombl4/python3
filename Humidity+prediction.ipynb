{
 "cells": [
  {
   "cell_type": "code",
   "execution_count": null,
   "metadata": {
    "collapsed": true
   },
   "outputs": [],
   "source": [
    "def predictMissingHumidity(startDate,endDate,knownTimestamps,humidity,timestamps):\n",
    "    \n",
    "    from dateutil import parser\n",
    "    \n",
    "    newknownTimestamps=[]\n",
    "    newtimestamps=[]\n",
    "    humidout=[]\n",
    "\n",
    "    #transform dates into datetime type\n",
    "    for t in knownTimestamps:\n",
    "        newknownTimestamps.append(parser.parse(t))\n",
    "        \n",
    "    for t in timestamps:    \n",
    "        newt=parser.parse(t)\n",
    "        # find nearest time\n",
    "        besttime=min(newknownTimestamps, key=lambda d: abs(d - newt))  \n",
    "        bestindex=newknownTimestamps.index(besttime)\n",
    "        \n",
    "        #check time limits\n",
    "        if newt<=newknownTimestamps[0]:\n",
    "            humidout.append(humidity[0])\n",
    "        elif newt>=newknownTimestamps[len(humidity)-1]:\n",
    "            humidout.append(humidity[len(humidity)-1])\n",
    "        \n",
    "        #check perfect fit    \n",
    "        elif newt==mint:\n",
    "            humidout.append(humidity[minindexlen(humidity)-1])\n",
    "        \n",
    "        \n",
    "        else:   \n",
    "            #determine earlier and later measurements (assuming given array is sorted by time as in the example)\n",
    "            if besttime>newt:                \n",
    "                lowindex=newknownTimestamps.index(besttime)-1\n",
    "                highindex=newknownTimestamps.index(besttime)\n",
    "            if besttime<newt:                \n",
    "                lowindex=newknownTimestamps.index(besttime)\n",
    "                highindex=newknownTimestamps.index(besttime)+1\n",
    "                \n",
    "            #use linear approximation            \n",
    "            deltat=newknownTimestamps[highindex]-newknownTimestamps[lowindex]\n",
    "            deltat2=newt-newknownTimestamps[lowindex]\n",
    "            humidout.append(humidity[lowindex]+(deltat2.days*24*3600+deltat2.seconds)*(humidity[highindex]-humidity[lowindex])/(deltat.days*24*3600+deltat.seconds))\n",
    "            #print (humidity[lowindex],deltat2.days,deltat2.seconds,humidity[highindex],humidity[lowindex],deltat.days+1,deltat.seconds)\n",
    "    humidout = [round(i,2) for i in humidout]\n",
    "    return humidout     "
   ]
  }
 ],
 "metadata": {
  "kernelspec": {
   "display_name": "Python 3",
   "language": "python",
   "name": "python3"
  },
  "language_info": {
   "codemirror_mode": {
    "name": "ipython",
    "version": 3
   },
   "file_extension": ".py",
   "mimetype": "text/x-python",
   "name": "python",
   "nbconvert_exporter": "python",
   "pygments_lexer": "ipython3",
   "version": "3.5.2"
  }
 },
 "nbformat": 4,
 "nbformat_minor": 2
}
